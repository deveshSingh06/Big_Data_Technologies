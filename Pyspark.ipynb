{
 "cells": [
  {
   "cell_type": "markdown",
   "metadata": {},
   "source": [
    "# Machine Learning Data Processing using Apache Spark \n",
    "\n",
    "---\n"
   ]
  },
  {
   "cell_type": "markdown",
   "metadata": {
    "colab_type": "text",
    "id": "FHMWQcqq8yVn"
   },
   "source": [
    "This notebook shows the implementation of [Spark](https://spark.apache.org/), a Big Data Framework, for large-scale data processing, through an example using MLlib.\n",
    "\n",
    "## Why Spark over Hadoop?\n",
    "\n",
    "- Hadoop stores intermediate results onto the disk while processing data.\n",
    "  - This is slower than how Spark operates, as the data moves to and fro from the memory to the disk.\n",
    "\n",
    "- Spark stores the intermediate results onto the memory(unless it is full) while processing data.\n",
    "  - This is faster than Hadoop, as the data stays in the memory(whenever possible).\n",
    "\n",
    "- Spark follows Lazy Execution scheme to return outputs.\n",
    "  - It first creates a Directed Acyclic Graph(DAG) to find the optimal path to return the output.\n",
    "\n",
    "## How Big-Data is Processed?\n",
    "\n",
    "- Given some big data, we can divide it into small chunks and distribute the chunks amongst a cluster of distributed systems(known as nodes).\n",
    "-  The nodes in the cluster process these chunks and the fnal results are collected.\n",
    "\n",
    "## MapReduce Paradigm for Big-Data\n",
    "\n",
    "- MapReduce is a programming technique for manipulating large data sets.\n",
    "  - \"Hadoop MapReduce\" is a specific implementation of this programming technique.\n",
    "- The technique works by first dividing up a large dataset and distributing the data across a cluster.\n",
    "- Three main steps in MapReduce:\n",
    "\n",
    "<img src=\"https://raw.githubusercontent.com/deveshSingh06/Repo_Resources/master/Big_Data_Technologies/Images/Map_Reduce/0.png\" width=600>\n",
    "<br>\n",
    "1. Map Step: In the map step, each data is analyzed and converted into a (key, value) pair.\n",
    "\n",
    "<img src=\"https://raw.githubusercontent.com/deveshSingh06/Repo_Resources/master/Big_Data_Technologies/Images/Map_Reduce/1.png\" width=600>\n",
    "<br>      \n",
    "2. Shuffle Step: Then these key-value pairs are shuffled across the cluster so that all keys are on the same machine.\n",
    "\n",
    "<img src=\"https://raw.githubusercontent.com/deveshSingh06/Repo_Resources/master/Big_Data_Technologies/Images/Map_Reduce/2.png\" width=600>\n",
    "<br>   \n",
    "3. Reduce step: In the reduce step, the values with the same keys are combined together.\n",
    "\n",
    "<img src=\"https://raw.githubusercontent.com/deveshSingh06/Repo_Resources/master/Big_Data_Technologies/Images/Map_Reduce/2.png\" width=600>\n",
    "   \n",
    "Image Credits: [Udacity](https://www.udacity.com/)\n",
    "\n",
    "\n"
   ]
  },
  {
   "cell_type": "code",
   "execution_count": 24,
   "metadata": {
    "colab": {},
    "colab_type": "code",
    "executionInfo": {
     "elapsed": 979,
     "status": "ok",
     "timestamp": 1594922645003,
     "user": {
      "displayName": "Devesh Singh",
      "photoUrl": "https://lh3.googleusercontent.com/a-/AOh14GjQ6XJWpQ4PxGbIfBQD6NHOzIh2M2Dg1VmFfhJiaw=s64",
      "userId": "15685909075934317041"
     },
     "user_tz": -330
    },
    "id": "WKWEjeOk0wJH"
   },
   "outputs": [],
   "source": [
    "# SparkContext connects the cluster with the application\n",
    "# SparkSession is Spark SQL's equivalent, used to read dataframes\n",
    "\n",
    "from pyspark.sql import SparkSession\n",
    "\n",
    "spark= SparkSession.builder.appName('Customers').getOrCreate()"
   ]
  },
  {
   "cell_type": "code",
   "execution_count": 25,
   "metadata": {
    "colab": {},
    "colab_type": "code",
    "executionInfo": {
     "elapsed": 1284,
     "status": "ok",
     "timestamp": 1594922645379,
     "user": {
      "displayName": "Devesh Singh",
      "photoUrl": "https://lh3.googleusercontent.com/a-/AOh14GjQ6XJWpQ4PxGbIfBQD6NHOzIh2M2Dg1VmFfhJiaw=s64",
      "userId": "15685909075934317041"
     },
     "user_tz": -330
    },
    "id": "V_gKGvpZ0wJO"
   },
   "outputs": [],
   "source": [
    "from pyspark.ml.regression import LinearRegression\n"
   ]
  },
  {
   "cell_type": "markdown",
   "metadata": {
    "colab_type": "text",
    "id": "8tVVznG3xw93"
   },
   "source": [
    "---\n",
    "\n",
    "The dataset consists of information about consumers of a an video streaming app. We are supposed to predict how much they spend yearly for their services."
   ]
  },
  {
   "cell_type": "code",
   "execution_count": 26,
   "metadata": {
    "colab": {},
    "colab_type": "code",
    "executionInfo": {
     "elapsed": 2491,
     "status": "ok",
     "timestamp": 1594922646610,
     "user": {
      "displayName": "Devesh Singh",
      "photoUrl": "https://lh3.googleusercontent.com/a-/AOh14GjQ6XJWpQ4PxGbIfBQD6NHOzIh2M2Dg1VmFfhJiaw=s64",
      "userId": "15685909075934317041"
     },
     "user_tz": -330
    },
    "id": "G21buqC90wJX"
   },
   "outputs": [],
   "source": [
    "dataset=spark.read.csv(\"Data.csv\",inferSchema=True,header=True)"
   ]
  },
  {
   "cell_type": "code",
   "execution_count": 27,
   "metadata": {
    "colab": {
     "base_uri": "https://localhost:8080/",
     "height": 54
    },
    "colab_type": "code",
    "executionInfo": {
     "elapsed": 2477,
     "status": "ok",
     "timestamp": 1594922646612,
     "user": {
      "displayName": "Devesh Singh",
      "photoUrl": "https://lh3.googleusercontent.com/a-/AOh14GjQ6XJWpQ4PxGbIfBQD6NHOzIh2M2Dg1VmFfhJiaw=s64",
      "userId": "15685909075934317041"
     },
     "user_tz": -330
    },
    "id": "1SqC4tBM0wJf",
    "outputId": "55599da3-c2d1-4259-ed0b-d594eb061a25"
   },
   "outputs": [
    {
     "data": {
      "text/plain": [
       "DataFrame[Email: string, Address: string, Avg Session Length: double, Time on App: double, Time on Website: double, Length of Membership: double, Yearly Amount Spent: double]"
      ]
     },
     "execution_count": 27,
     "metadata": {
      "tags": []
     },
     "output_type": "execute_result"
    }
   ],
   "source": [
    "dataset"
   ]
  },
  {
   "cell_type": "markdown",
   "metadata": {
    "colab_type": "text",
    "id": "OVZB_c8GxE_8"
   },
   "source": [
    "Since Spark follows Lazy Execution, it doesn't return output untill it is forced to do so using show() or collect()."
   ]
  },
  {
   "cell_type": "code",
   "execution_count": 28,
   "metadata": {
    "colab": {
     "base_uri": "https://localhost:8080/",
     "height": 454
    },
    "colab_type": "code",
    "executionInfo": {
     "elapsed": 2451,
     "status": "ok",
     "timestamp": 1594922646617,
     "user": {
      "displayName": "Devesh Singh",
      "photoUrl": "https://lh3.googleusercontent.com/a-/AOh14GjQ6XJWpQ4PxGbIfBQD6NHOzIh2M2Dg1VmFfhJiaw=s64",
      "userId": "15685909075934317041"
     },
     "user_tz": -330
    },
    "id": "piL2WAGB0wJp",
    "outputId": "f98e7258-4b79-4fcc-8fa0-998726048097"
   },
   "outputs": [
    {
     "name": "stdout",
     "output_type": "stream",
     "text": [
      "+--------------------+--------------------+------------------+-----------+---------------+--------------------+-------------------+\n",
      "|               Email|             Address|Avg Session Length|Time on App|Time on Website|Length of Membership|Yearly Amount Spent|\n",
      "+--------------------+--------------------+------------------+-----------+---------------+--------------------+-------------------+\n",
      "|mstephenson@ferna...|835 Frank TunnelW...|       34.49726773|12.65565115|    39.57766802|         4.082620633|         587.951054|\n",
      "|   hduke@hotmail.com|4547 Archer Commo...|       31.92627203|11.10946073|    37.26895887|         2.664034182|        392.2049334|\n",
      "|    pallen@yahoo.com|24645 Valerie Uni...|       33.00091476|11.33027806|    37.11059744|         4.104543202|        487.5475049|\n",
      "|riverarebecca@gma...|1414 David Throug...|       34.30555663|13.71751367|    36.72128268|         3.120178783|         581.852344|\n",
      "|mstephens@davidso...|14023 Rodriguez P...|       33.33067252|12.79518855|     37.5366533|         4.446308318|         599.406092|\n",
      "|alvareznancy@luca...|645 Martha Park A...|       33.87103788|12.02692534|    34.47687763|         5.493507201|        637.1024479|\n",
      "|katherine20@yahoo...|68388 Reyes Light...|        32.0215955|11.36634831|    36.68377615|         4.685017247|        521.5721748|\n",
      "|  awatkins@yahoo.com|Unit 6538 Box 898...|       32.73914294|12.35195897|    37.37335886|         4.434273435|        549.9041461|\n",
      "|vchurch@walter-ma...|860 Lee KeyWest D...|        33.9877729|13.38623528|    37.53449734|         3.273433578|         570.200409|\n",
      "|    bonnie69@lin.biz|PSC 2734, Box 525...|       31.93654862|11.81412829|    37.14516822|         3.202806072|        427.1993849|\n",
      "|andrew06@peterson...|26104 Alexander G...|       33.99257277|13.33897545|    37.22580613|         2.482607771|        492.6060127|\n",
      "|ryanwerner@freema...|Unit 2413 Box 034...|       33.87936082|  11.584783|    37.08792607|         3.713209203|        522.3374046|\n",
      "|   knelson@gmail.com|6705 Miller Orcha...|       29.53242897| 10.9612984|    37.42021558|         4.046423164|        408.6403511|\n",
      "|wrightpeter@yahoo...|05302 Dunlap Ferr...|       33.19033404|12.95922609|     36.1446667|         3.918541839|        573.4158673|\n",
      "|taylormason@gmail...|7773 Powell Sprin...|       32.38797585|13.14872569|    36.61995708|         2.494543647|        470.4527333|\n",
      "| jstark@anderson.com|49558 Ramirez Roa...|       30.73772037|12.63660605|    36.21376309|         3.357846842|        461.7807422|\n",
      "| wjennings@gmail.com|6362 Wilson Mount...|        32.1253869|11.73386169|    34.89409275|         3.136132716|        457.8476959|\n",
      "|rebecca45@hale-ba...|8982 Burton RowWi...|       32.33889932|12.01319469|    38.38513659|         2.420806161|        407.7045475|\n",
      "|alejandro75@hotma...|64475 Andre Club ...|       32.18781205|14.71538754|    38.24411459|         1.516575581|        452.3156755|\n",
      "|samuel46@love-wes...|544 Alexander Hei...|       32.61785606|13.98959256|     37.1905038|          4.06454855|        605.0610388|\n",
      "+--------------------+--------------------+------------------+-----------+---------------+--------------------+-------------------+\n",
      "only showing top 20 rows\n",
      "\n"
     ]
    }
   ],
   "source": [
    "dataset.show()"
   ]
  },
  {
   "cell_type": "code",
   "execution_count": 29,
   "metadata": {
    "colab": {
     "base_uri": "https://localhost:8080/",
     "height": 168
    },
    "colab_type": "code",
    "executionInfo": {
     "elapsed": 2801,
     "status": "ok",
     "timestamp": 1594922646989,
     "user": {
      "displayName": "Devesh Singh",
      "photoUrl": "https://lh3.googleusercontent.com/a-/AOh14GjQ6XJWpQ4PxGbIfBQD6NHOzIh2M2Dg1VmFfhJiaw=s64",
      "userId": "15685909075934317041"
     },
     "user_tz": -330
    },
    "id": "4gnMT8kx0wJt",
    "outputId": "d44deec1-9808-4c03-b796-917e4339ee76"
   },
   "outputs": [
    {
     "name": "stdout",
     "output_type": "stream",
     "text": [
      "root\n",
      " |-- Email: string (nullable = true)\n",
      " |-- Address: string (nullable = true)\n",
      " |-- Avg Session Length: double (nullable = true)\n",
      " |-- Time on App: double (nullable = true)\n",
      " |-- Time on Website: double (nullable = true)\n",
      " |-- Length of Membership: double (nullable = true)\n",
      " |-- Yearly Amount Spent: double (nullable = true)\n",
      "\n"
     ]
    }
   ],
   "source": [
    "dataset.printSchema()"
   ]
  },
  {
   "cell_type": "code",
   "execution_count": 30,
   "metadata": {
    "colab": {},
    "colab_type": "code",
    "executionInfo": {
     "elapsed": 2782,
     "status": "ok",
     "timestamp": 1594922646990,
     "user": {
      "displayName": "Devesh Singh",
      "photoUrl": "https://lh3.googleusercontent.com/a-/AOh14GjQ6XJWpQ4PxGbIfBQD6NHOzIh2M2Dg1VmFfhJiaw=s64",
      "userId": "15685909075934317041"
     },
     "user_tz": -330
    },
    "id": "ex7RK9U90wJ3"
   },
   "outputs": [],
   "source": [
    "from pyspark.ml.linalg import Vectors\n",
    "from pyspark.ml.feature import VectorAssembler"
   ]
  },
  {
   "cell_type": "code",
   "execution_count": 31,
   "metadata": {
    "colab": {},
    "colab_type": "code",
    "executionInfo": {
     "elapsed": 2761,
     "status": "ok",
     "timestamp": 1594922646991,
     "user": {
      "displayName": "Devesh Singh",
      "photoUrl": "https://lh3.googleusercontent.com/a-/AOh14GjQ6XJWpQ4PxGbIfBQD6NHOzIh2M2Dg1VmFfhJiaw=s64",
      "userId": "15685909075934317041"
     },
     "user_tz": -330
    },
    "id": "F-rQN1g50wJ7"
   },
   "outputs": [],
   "source": [
    "featureassembler=VectorAssembler(inputCols=[\"Avg Session Length\",\"Time on App\",\"Time on Website\",\n",
    "                                            \"Length of Membership\"],outputCol=\"Independent Features\")"
   ]
  },
  {
   "cell_type": "code",
   "execution_count": 32,
   "metadata": {
    "colab": {},
    "colab_type": "code",
    "executionInfo": {
     "elapsed": 2748,
     "status": "ok",
     "timestamp": 1594922646992,
     "user": {
      "displayName": "Devesh Singh",
      "photoUrl": "https://lh3.googleusercontent.com/a-/AOh14GjQ6XJWpQ4PxGbIfBQD6NHOzIh2M2Dg1VmFfhJiaw=s64",
      "userId": "15685909075934317041"
     },
     "user_tz": -330
    },
    "id": "FkoLFP320wJ_"
   },
   "outputs": [],
   "source": [
    "output=featureassembler.transform(dataset)"
   ]
  },
  {
   "cell_type": "code",
   "execution_count": 33,
   "metadata": {
    "colab": {
     "base_uri": "https://localhost:8080/",
     "height": 454
    },
    "colab_type": "code",
    "executionInfo": {
     "elapsed": 2734,
     "status": "ok",
     "timestamp": 1594922646993,
     "user": {
      "displayName": "Devesh Singh",
      "photoUrl": "https://lh3.googleusercontent.com/a-/AOh14GjQ6XJWpQ4PxGbIfBQD6NHOzIh2M2Dg1VmFfhJiaw=s64",
      "userId": "15685909075934317041"
     },
     "user_tz": -330
    },
    "id": "DqEOSOGu0wKC",
    "outputId": "dd0fb601-a495-4cc7-e3e6-3f4ae66659c1"
   },
   "outputs": [
    {
     "name": "stdout",
     "output_type": "stream",
     "text": [
      "+--------------------+--------------------+------------------+-----------+---------------+--------------------+-------------------+--------------------+\n",
      "|               Email|             Address|Avg Session Length|Time on App|Time on Website|Length of Membership|Yearly Amount Spent|Independent Features|\n",
      "+--------------------+--------------------+------------------+-----------+---------------+--------------------+-------------------+--------------------+\n",
      "|mstephenson@ferna...|835 Frank TunnelW...|       34.49726773|12.65565115|    39.57766802|         4.082620633|         587.951054|[34.49726773,12.6...|\n",
      "|   hduke@hotmail.com|4547 Archer Commo...|       31.92627203|11.10946073|    37.26895887|         2.664034182|        392.2049334|[31.92627203,11.1...|\n",
      "|    pallen@yahoo.com|24645 Valerie Uni...|       33.00091476|11.33027806|    37.11059744|         4.104543202|        487.5475049|[33.00091476,11.3...|\n",
      "|riverarebecca@gma...|1414 David Throug...|       34.30555663|13.71751367|    36.72128268|         3.120178783|         581.852344|[34.30555663,13.7...|\n",
      "|mstephens@davidso...|14023 Rodriguez P...|       33.33067252|12.79518855|     37.5366533|         4.446308318|         599.406092|[33.33067252,12.7...|\n",
      "|alvareznancy@luca...|645 Martha Park A...|       33.87103788|12.02692534|    34.47687763|         5.493507201|        637.1024479|[33.87103788,12.0...|\n",
      "|katherine20@yahoo...|68388 Reyes Light...|        32.0215955|11.36634831|    36.68377615|         4.685017247|        521.5721748|[32.0215955,11.36...|\n",
      "|  awatkins@yahoo.com|Unit 6538 Box 898...|       32.73914294|12.35195897|    37.37335886|         4.434273435|        549.9041461|[32.73914294,12.3...|\n",
      "|vchurch@walter-ma...|860 Lee KeyWest D...|        33.9877729|13.38623528|    37.53449734|         3.273433578|         570.200409|[33.9877729,13.38...|\n",
      "|    bonnie69@lin.biz|PSC 2734, Box 525...|       31.93654862|11.81412829|    37.14516822|         3.202806072|        427.1993849|[31.93654862,11.8...|\n",
      "|andrew06@peterson...|26104 Alexander G...|       33.99257277|13.33897545|    37.22580613|         2.482607771|        492.6060127|[33.99257277,13.3...|\n",
      "|ryanwerner@freema...|Unit 2413 Box 034...|       33.87936082|  11.584783|    37.08792607|         3.713209203|        522.3374046|[33.87936082,11.5...|\n",
      "|   knelson@gmail.com|6705 Miller Orcha...|       29.53242897| 10.9612984|    37.42021558|         4.046423164|        408.6403511|[29.53242897,10.9...|\n",
      "|wrightpeter@yahoo...|05302 Dunlap Ferr...|       33.19033404|12.95922609|     36.1446667|         3.918541839|        573.4158673|[33.19033404,12.9...|\n",
      "|taylormason@gmail...|7773 Powell Sprin...|       32.38797585|13.14872569|    36.61995708|         2.494543647|        470.4527333|[32.38797585,13.1...|\n",
      "| jstark@anderson.com|49558 Ramirez Roa...|       30.73772037|12.63660605|    36.21376309|         3.357846842|        461.7807422|[30.73772037,12.6...|\n",
      "| wjennings@gmail.com|6362 Wilson Mount...|        32.1253869|11.73386169|    34.89409275|         3.136132716|        457.8476959|[32.1253869,11.73...|\n",
      "|rebecca45@hale-ba...|8982 Burton RowWi...|       32.33889932|12.01319469|    38.38513659|         2.420806161|        407.7045475|[32.33889932,12.0...|\n",
      "|alejandro75@hotma...|64475 Andre Club ...|       32.18781205|14.71538754|    38.24411459|         1.516575581|        452.3156755|[32.18781205,14.7...|\n",
      "|samuel46@love-wes...|544 Alexander Hei...|       32.61785606|13.98959256|     37.1905038|          4.06454855|        605.0610388|[32.61785606,13.9...|\n",
      "+--------------------+--------------------+------------------+-----------+---------------+--------------------+-------------------+--------------------+\n",
      "only showing top 20 rows\n",
      "\n"
     ]
    }
   ],
   "source": [
    "output.show()"
   ]
  },
  {
   "cell_type": "code",
   "execution_count": 34,
   "metadata": {
    "colab": {
     "base_uri": "https://localhost:8080/",
     "height": 454
    },
    "colab_type": "code",
    "executionInfo": {
     "elapsed": 3349,
     "status": "ok",
     "timestamp": 1594922647630,
     "user": {
      "displayName": "Devesh Singh",
      "photoUrl": "https://lh3.googleusercontent.com/a-/AOh14GjQ6XJWpQ4PxGbIfBQD6NHOzIh2M2Dg1VmFfhJiaw=s64",
      "userId": "15685909075934317041"
     },
     "user_tz": -330
    },
    "id": "dRIZViL60wKG",
    "outputId": "ce7c4905-919d-4f94-bf99-72fca1574bcc"
   },
   "outputs": [
    {
     "name": "stdout",
     "output_type": "stream",
     "text": [
      "+--------------------+\n",
      "|Independent Features|\n",
      "+--------------------+\n",
      "|[34.49726773,12.6...|\n",
      "|[31.92627203,11.1...|\n",
      "|[33.00091476,11.3...|\n",
      "|[34.30555663,13.7...|\n",
      "|[33.33067252,12.7...|\n",
      "|[33.87103788,12.0...|\n",
      "|[32.0215955,11.36...|\n",
      "|[32.73914294,12.3...|\n",
      "|[33.9877729,13.38...|\n",
      "|[31.93654862,11.8...|\n",
      "|[33.99257277,13.3...|\n",
      "|[33.87936082,11.5...|\n",
      "|[29.53242897,10.9...|\n",
      "|[33.19033404,12.9...|\n",
      "|[32.38797585,13.1...|\n",
      "|[30.73772037,12.6...|\n",
      "|[32.1253869,11.73...|\n",
      "|[32.33889932,12.0...|\n",
      "|[32.18781205,14.7...|\n",
      "|[32.61785606,13.9...|\n",
      "+--------------------+\n",
      "only showing top 20 rows\n",
      "\n"
     ]
    }
   ],
   "source": [
    "output.select(\"Independent Features\").show()"
   ]
  },
  {
   "cell_type": "code",
   "execution_count": 35,
   "metadata": {
    "colab": {
     "base_uri": "https://localhost:8080/",
     "height": 151
    },
    "colab_type": "code",
    "executionInfo": {
     "elapsed": 3333,
     "status": "ok",
     "timestamp": 1594922647631,
     "user": {
      "displayName": "Devesh Singh",
      "photoUrl": "https://lh3.googleusercontent.com/a-/AOh14GjQ6XJWpQ4PxGbIfBQD6NHOzIh2M2Dg1VmFfhJiaw=s64",
      "userId": "15685909075934317041"
     },
     "user_tz": -330
    },
    "id": "XRtnIwg10wKM",
    "outputId": "bac3e3ff-710d-4926-f7cc-0508332391be"
   },
   "outputs": [
    {
     "data": {
      "text/plain": [
       "['Email',\n",
       " 'Address',\n",
       " 'Avg Session Length',\n",
       " 'Time on App',\n",
       " 'Time on Website',\n",
       " 'Length of Membership',\n",
       " 'Yearly Amount Spent',\n",
       " 'Independent Features']"
      ]
     },
     "execution_count": 35,
     "metadata": {
      "tags": []
     },
     "output_type": "execute_result"
    }
   ],
   "source": [
    "output.columns"
   ]
  },
  {
   "cell_type": "code",
   "execution_count": 36,
   "metadata": {
    "colab": {},
    "colab_type": "code",
    "executionInfo": {
     "elapsed": 3315,
     "status": "ok",
     "timestamp": 1594922647634,
     "user": {
      "displayName": "Devesh Singh",
      "photoUrl": "https://lh3.googleusercontent.com/a-/AOh14GjQ6XJWpQ4PxGbIfBQD6NHOzIh2M2Dg1VmFfhJiaw=s64",
      "userId": "15685909075934317041"
     },
     "user_tz": -330
    },
    "id": "w4L9ZhjM0wKQ"
   },
   "outputs": [],
   "source": [
    "finalized_data=output.select(\"Independent Features\",\"Yearly Amount Spent\")"
   ]
  },
  {
   "cell_type": "code",
   "execution_count": 37,
   "metadata": {
    "colab": {
     "base_uri": "https://localhost:8080/",
     "height": 454
    },
    "colab_type": "code",
    "executionInfo": {
     "elapsed": 3696,
     "status": "ok",
     "timestamp": 1594922648027,
     "user": {
      "displayName": "Devesh Singh",
      "photoUrl": "https://lh3.googleusercontent.com/a-/AOh14GjQ6XJWpQ4PxGbIfBQD6NHOzIh2M2Dg1VmFfhJiaw=s64",
      "userId": "15685909075934317041"
     },
     "user_tz": -330
    },
    "id": "qnqK592T0wKT",
    "outputId": "a7a806b4-8a80-4d32-d808-d7e0a71b8bab"
   },
   "outputs": [
    {
     "name": "stdout",
     "output_type": "stream",
     "text": [
      "+--------------------+-------------------+\n",
      "|Independent Features|Yearly Amount Spent|\n",
      "+--------------------+-------------------+\n",
      "|[34.49726773,12.6...|         587.951054|\n",
      "|[31.92627203,11.1...|        392.2049334|\n",
      "|[33.00091476,11.3...|        487.5475049|\n",
      "|[34.30555663,13.7...|         581.852344|\n",
      "|[33.33067252,12.7...|         599.406092|\n",
      "|[33.87103788,12.0...|        637.1024479|\n",
      "|[32.0215955,11.36...|        521.5721748|\n",
      "|[32.73914294,12.3...|        549.9041461|\n",
      "|[33.9877729,13.38...|         570.200409|\n",
      "|[31.93654862,11.8...|        427.1993849|\n",
      "|[33.99257277,13.3...|        492.6060127|\n",
      "|[33.87936082,11.5...|        522.3374046|\n",
      "|[29.53242897,10.9...|        408.6403511|\n",
      "|[33.19033404,12.9...|        573.4158673|\n",
      "|[32.38797585,13.1...|        470.4527333|\n",
      "|[30.73772037,12.6...|        461.7807422|\n",
      "|[32.1253869,11.73...|        457.8476959|\n",
      "|[32.33889932,12.0...|        407.7045475|\n",
      "|[32.18781205,14.7...|        452.3156755|\n",
      "|[32.61785606,13.9...|        605.0610388|\n",
      "+--------------------+-------------------+\n",
      "only showing top 20 rows\n",
      "\n"
     ]
    }
   ],
   "source": [
    "finalized_data.show()"
   ]
  },
  {
   "cell_type": "code",
   "execution_count": 38,
   "metadata": {
    "colab": {},
    "colab_type": "code",
    "executionInfo": {
     "elapsed": 3673,
     "status": "ok",
     "timestamp": 1594922648029,
     "user": {
      "displayName": "Devesh Singh",
      "photoUrl": "https://lh3.googleusercontent.com/a-/AOh14GjQ6XJWpQ4PxGbIfBQD6NHOzIh2M2Dg1VmFfhJiaw=s64",
      "userId": "15685909075934317041"
     },
     "user_tz": -330
    },
    "id": "5s5_AUq90wKZ"
   },
   "outputs": [],
   "source": [
    "train_data,test_data=finalized_data.randomSplit([0.75,0.25])"
   ]
  },
  {
   "cell_type": "code",
   "execution_count": 39,
   "metadata": {
    "colab": {},
    "colab_type": "code",
    "executionInfo": {
     "elapsed": 5380,
     "status": "ok",
     "timestamp": 1594922649753,
     "user": {
      "displayName": "Devesh Singh",
      "photoUrl": "https://lh3.googleusercontent.com/a-/AOh14GjQ6XJWpQ4PxGbIfBQD6NHOzIh2M2Dg1VmFfhJiaw=s64",
      "userId": "15685909075934317041"
     },
     "user_tz": -330
    },
    "id": "KSP3ErmG0wKc"
   },
   "outputs": [],
   "source": [
    "regressor=LinearRegression(featuresCol='Independent Features', labelCol='Yearly Amount Spent')\n",
    "regressor=regressor.fit(train_data)"
   ]
  },
  {
   "cell_type": "code",
   "execution_count": 40,
   "metadata": {
    "colab": {},
    "colab_type": "code",
    "executionInfo": {
     "elapsed": 5834,
     "status": "ok",
     "timestamp": 1594922650218,
     "user": {
      "displayName": "Devesh Singh",
      "photoUrl": "https://lh3.googleusercontent.com/a-/AOh14GjQ6XJWpQ4PxGbIfBQD6NHOzIh2M2Dg1VmFfhJiaw=s64",
      "userId": "15685909075934317041"
     },
     "user_tz": -330
    },
    "id": "qxthhLWX0wKo"
   },
   "outputs": [],
   "source": [
    "pred_results=regressor.evaluate(test_data)"
   ]
  },
  {
   "cell_type": "code",
   "execution_count": 42,
   "metadata": {
    "colab": {
     "base_uri": "https://localhost:8080/",
     "height": 454
    },
    "colab_type": "code",
    "executionInfo": {
     "elapsed": 1913,
     "status": "ok",
     "timestamp": 1594922686676,
     "user": {
      "displayName": "Devesh Singh",
      "photoUrl": "https://lh3.googleusercontent.com/a-/AOh14GjQ6XJWpQ4PxGbIfBQD6NHOzIh2M2Dg1VmFfhJiaw=s64",
      "userId": "15685909075934317041"
     },
     "user_tz": -330
    },
    "id": "oxJBcVR60wKq",
    "outputId": "1862da89-930a-4f54-9dd1-2a31a0f82db6"
   },
   "outputs": [
    {
     "name": "stdout",
     "output_type": "stream",
     "text": [
      "+--------------------+-------------------+------------------+\n",
      "|Independent Features|Yearly Amount Spent|        prediction|\n",
      "+--------------------+-------------------+------------------+\n",
      "|[30.57436368,11.3...|        442.0644138| 441.4843490309056|\n",
      "|[30.81620065,11.8...|        266.0863409| 283.0946099202408|\n",
      "|[30.83643267,13.1...|        467.5019004|  471.483692084249|\n",
      "|[31.04722214,11.1...|        392.4973992|  387.478600236735|\n",
      "|[31.26064687,13.2...|        421.3266313| 421.9273081093545|\n",
      "|[31.30919264,11.9...|        432.7207178|  429.699260150114|\n",
      "|[31.3123496,11.68...|         463.591418| 444.1484760429262|\n",
      "|[31.36621217,11.1...|        430.5888826| 426.6102834910139|\n",
      "|[31.42522688,13.2...|        530.7667187|    534.2557431369|\n",
      "|[31.44597248,12.8...|        484.8769649| 481.5534946735463|\n",
      "|[31.44744649,10.1...|        418.6027421| 425.9279908377571|\n",
      "|[31.51473786,12.5...|         489.812488| 494.4400911047319|\n",
      "|[31.52575242,11.3...|        443.9656268| 449.2893759606534|\n",
      "|[31.5261979,12.04...|        409.0945262| 417.6835879473879|\n",
      "|[31.6005122,12.22...|        479.1728515| 460.8862732241462|\n",
      "|[31.60983957,12.7...|        444.5455497|427.47286312008987|\n",
      "|[31.62536013,13.1...|        376.3369008|380.86655612033496|\n",
      "|[31.73663569,10.7...|        496.9334463| 494.5356459685597|\n",
      "|[31.82934646,11.2...|         385.152338|384.18009160056454|\n",
      "|[31.85125313,12.4...|        472.9922467| 464.7463347324517|\n",
      "+--------------------+-------------------+------------------+\n",
      "only showing top 20 rows\n",
      "\n"
     ]
    }
   ],
   "source": [
    "pred_results.predictions.show()"
   ]
  },
  {
   "cell_type": "code",
   "execution_count": 41,
   "metadata": {
    "colab": {},
    "colab_type": "code",
    "executionInfo": {
     "elapsed": 6243,
     "status": "ok",
     "timestamp": 1594922650673,
     "user": {
      "displayName": "Devesh Singh",
      "photoUrl": "https://lh3.googleusercontent.com/a-/AOh14GjQ6XJWpQ4PxGbIfBQD6NHOzIh2M2Dg1VmFfhJiaw=s64",
      "userId": "15685909075934317041"
     },
     "user_tz": -330
    },
    "id": "rtte4zR60wKu"
   },
   "outputs": [],
   "source": []
  }
 ],
 "metadata": {
  "colab": {
   "collapsed_sections": [],
   "name": "Pyspark.ipynb",
   "provenance": []
  },
  "kernelspec": {
   "display_name": "Python 3",
   "language": "python",
   "name": "python3"
  },
  "language_info": {
   "codemirror_mode": {
    "name": "ipython",
    "version": 3
   },
   "file_extension": ".py",
   "mimetype": "text/x-python",
   "name": "python",
   "nbconvert_exporter": "python",
   "pygments_lexer": "ipython3",
   "version": "3.7.7"
  }
 },
 "nbformat": 4,
 "nbformat_minor": 1
}
